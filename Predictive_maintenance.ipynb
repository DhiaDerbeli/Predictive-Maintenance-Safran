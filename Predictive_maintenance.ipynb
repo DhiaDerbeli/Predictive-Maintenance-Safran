{
  "nbformat": 4,
  "nbformat_minor": 0,
  "metadata": {
    "accelerator": "GPU",
    "colab": {
      "name": "Maintenace Prédictive Safran.ipynb",
      "provenance": [],
      "collapsed_sections": [],
      "mount_file_id": "1IuFK9G7Oq0gjZPVbbr0To4qIuibJLwbf",
      "authorship_tag": "ABX9TyM0alj595zGlZLNPE8delVz",
      "include_colab_link": true
    },
    "kernelspec": {
      "display_name": "Python 3",
      "name": "python3"
    },
    "language_info": {
      "name": "python"
    }
  },
  "cells": [
    {
      "cell_type": "markdown",
      "metadata": {
        "id": "view-in-github",
        "colab_type": "text"
      },
      "source": [
        "<a href=\"https://colab.research.google.com/github/DhiaDerbeli/Predictive-Maintenance-Safran/blob/main/Maintenace_Pr%C3%A9dictive_Safran.ipynb\" target=\"_parent\"><img src=\"https://colab.research.google.com/assets/colab-badge.svg\" alt=\"Open In Colab\"/></a>"
      ]
    },
    {
      "cell_type": "code",
      "metadata": {
        "id": "UkgMH8V2DhrW"
      },
      "source": [
        "import pandas as pd\n",
        "import numpy as np"
      ],
      "execution_count": null,
      "outputs": []
    },
    {
      "cell_type": "code",
      "metadata": {
        "id": "1Qv9FlOWDoEX"
      },
      "source": [
        "#impoot files\n",
        "machines = pd.read_csv('./drive/MyDrive/Data/machines.csv')\n",
        "errors = pd.read_csv('./drive/MyDrive/Data/errors.csv')\n",
        "failures = pd.read_csv('./drive/MyDrive/Data/failures.csv')\n",
        "data = pd.read_csv('./drive/MyDrive/Data/data.csv')\n",
        "maintenances = pd.read_csv('./drive/MyDrive/Data/maintenances.csv')"
      ],
      "execution_count": null,
      "outputs": []
    },
    {
      "cell_type": "code",
      "metadata": {
        "id": "RjVNKosGDqOx"
      },
      "source": [
        "one_hot = pd.get_dummies(failures['failure'])\n",
        "failures = failures.join(one_hot)"
      ],
      "execution_count": null,
      "outputs": []
    },
    {
      "cell_type": "code",
      "metadata": {
        "id": "N3Hr4ZtjE92d"
      },
      "source": [
        "one_hot = pd.get_dummies(errors['errorID'])\n",
        "errors = errors.join(one_hot)"
      ],
      "execution_count": null,
      "outputs": []
    },
    {
      "cell_type": "code",
      "metadata": {
        "id": "TSvEUH5hGqSD"
      },
      "source": [
        "maintenances.loc[maintenances.comp == \"comp1\", \"comp\"] = \"maintComp1\"\n",
        "maintenances.loc[maintenances.comp == \"comp2\", \"comp\"] = \"maintComp2\"\n",
        "maintenances.loc[maintenances.comp == \"comp3\", \"comp\"] = \"maintComp3\"\n",
        "maintenances.loc[maintenances.comp == \"comp4\", \"comp\"] = \"maintComp4\"\n",
        "one_hot = pd.get_dummies(maintenances['comp'])\n",
        "maintenances = maintenances.join(one_hot)"
      ],
      "execution_count": null,
      "outputs": []
    },
    {
      "cell_type": "code",
      "metadata": {
        "id": "-pmFiLezHrhR"
      },
      "source": [
        "errors = errors.drop('errorID',axis=1)\n",
        "failures = failures.drop('failure',axis=1)\n",
        "maintenances = maintenances.drop('comp',axis=1)"
      ],
      "execution_count": null,
      "outputs": []
    },
    {
      "cell_type": "code",
      "metadata": {
        "id": "GlRaeWNnInPH"
      },
      "source": [
        "errors = errors.groupby(['machineID','datetime']).max()\n",
        "failures = failures.groupby(['machineID','datetime']).max()\n",
        "maintenances = maintenances.groupby(['machineID','datetime']).max()"
      ],
      "execution_count": null,
      "outputs": []
    },
    {
      "cell_type": "code",
      "metadata": {
        "id": "Axl18_wybwpf"
      },
      "source": [
        "errors = errors.reset_index()\n",
        "failures = failures.reset_index()\n",
        "maintenances = maintenances.reset_index()"
      ],
      "execution_count": null,
      "outputs": []
    },
    {
      "cell_type": "code",
      "metadata": {
        "id": "DJwglP6aNrzc"
      },
      "source": [
        "failures['datetime'] = failures['datetime'].apply(pd.to_datetime)\n",
        "errors['datetime'] = errors['datetime'].apply(pd.to_datetime)\n",
        "data['datetime'] = data['datetime'].apply(pd.to_datetime)\n",
        "maintenances['datetime'] = maintenances['datetime'].apply(pd.to_datetime)"
      ],
      "execution_count": null,
      "outputs": []
    },
    {
      "cell_type": "code",
      "metadata": {
        "id": "pk72CwJEJQgu"
      },
      "source": [
        "\n",
        "machines = machines.drop('model',axis=1)\n",
        "test = pd.merge(data,machines,on=['machineID'])\n",
        "test = pd.merge(test,errors,how = 'left' , on=['datetime','machineID'])\n",
        "test['error1'] = test['error1'].fillna(0)\n",
        "test['error2'] = test['error2'].fillna(0)\n",
        "test['error3'] = test['error3'].fillna(0)\n",
        "test['error4'] = test['error4'].fillna(0)\n",
        "test['error5'] = test['error5'].fillna(0)\n",
        "test = pd.merge(test,failures,how = 'left' , on=['datetime','machineID'])\n",
        "test['comp1'] = test['comp1'].fillna(0)\n",
        "test['comp2'] = test['comp2'].fillna(0)\n",
        "test['comp3'] = test['comp3'].fillna(0)\n",
        "test['comp4'] = test['comp4'].fillna(0)\n",
        "maintenances = maintenances[maintenances['datetime'] >= '2015']\n",
        "test = pd.merge(test,maintenances,how = 'left' , on=['datetime','machineID'])\n",
        "test['maintComp1'] = test['maintComp1'].fillna(0)\n",
        "test['maintComp2'] = test['maintComp2'].fillna(0)\n",
        "test['maintComp3'] = test['maintComp3'].fillna(0)\n",
        "test['maintComp4'] = test['maintComp4'].fillna(0)"
      ],
      "execution_count": null,
      "outputs": []
    },
    {
      "cell_type": "code",
      "metadata": {
        "colab": {
          "base_uri": "https://localhost:8080/",
          "height": 419
        },
        "id": "CVCjE664Mlb7",
        "outputId": "9c1a1d6a-9ac0-4f52-cb50-ec0dabe8574f"
      },
      "source": [
        "test"
      ],
      "execution_count": null,
      "outputs": [
        {
          "output_type": "execute_result",
          "data": {
            "text/html": [
              "<div>\n",
              "<style scoped>\n",
              "    .dataframe tbody tr th:only-of-type {\n",
              "        vertical-align: middle;\n",
              "    }\n",
              "\n",
              "    .dataframe tbody tr th {\n",
              "        vertical-align: top;\n",
              "    }\n",
              "\n",
              "    .dataframe thead th {\n",
              "        text-align: right;\n",
              "    }\n",
              "</style>\n",
              "<table border=\"1\" class=\"dataframe\">\n",
              "  <thead>\n",
              "    <tr style=\"text-align: right;\">\n",
              "      <th></th>\n",
              "      <th>datetime</th>\n",
              "      <th>machineID</th>\n",
              "      <th>volt</th>\n",
              "      <th>rotate</th>\n",
              "      <th>pressure</th>\n",
              "      <th>vibration</th>\n",
              "      <th>age</th>\n",
              "      <th>error1</th>\n",
              "      <th>error2</th>\n",
              "      <th>error3</th>\n",
              "      <th>error4</th>\n",
              "      <th>error5</th>\n",
              "      <th>comp1</th>\n",
              "      <th>comp2</th>\n",
              "      <th>comp3</th>\n",
              "      <th>comp4</th>\n",
              "      <th>maintComp1</th>\n",
              "      <th>maintComp2</th>\n",
              "      <th>maintComp3</th>\n",
              "      <th>maintComp4</th>\n",
              "    </tr>\n",
              "  </thead>\n",
              "  <tbody>\n",
              "    <tr>\n",
              "      <th>0</th>\n",
              "      <td>2015-01-01 06:00:00</td>\n",
              "      <td>1</td>\n",
              "      <td>176.217853</td>\n",
              "      <td>418.504078</td>\n",
              "      <td>113.077935</td>\n",
              "      <td>45.087686</td>\n",
              "      <td>18</td>\n",
              "      <td>0.0</td>\n",
              "      <td>0.0</td>\n",
              "      <td>0.0</td>\n",
              "      <td>0.0</td>\n",
              "      <td>0.0</td>\n",
              "      <td>0.0</td>\n",
              "      <td>0.0</td>\n",
              "      <td>0.0</td>\n",
              "      <td>0.0</td>\n",
              "      <td>0.0</td>\n",
              "      <td>0.0</td>\n",
              "      <td>0.0</td>\n",
              "      <td>0.0</td>\n",
              "    </tr>\n",
              "    <tr>\n",
              "      <th>1</th>\n",
              "      <td>2015-01-01 07:00:00</td>\n",
              "      <td>1</td>\n",
              "      <td>162.879223</td>\n",
              "      <td>402.747490</td>\n",
              "      <td>95.460525</td>\n",
              "      <td>43.413973</td>\n",
              "      <td>18</td>\n",
              "      <td>0.0</td>\n",
              "      <td>0.0</td>\n",
              "      <td>0.0</td>\n",
              "      <td>0.0</td>\n",
              "      <td>0.0</td>\n",
              "      <td>0.0</td>\n",
              "      <td>0.0</td>\n",
              "      <td>0.0</td>\n",
              "      <td>0.0</td>\n",
              "      <td>0.0</td>\n",
              "      <td>0.0</td>\n",
              "      <td>0.0</td>\n",
              "      <td>0.0</td>\n",
              "    </tr>\n",
              "    <tr>\n",
              "      <th>2</th>\n",
              "      <td>2015-01-01 08:00:00</td>\n",
              "      <td>1</td>\n",
              "      <td>170.989902</td>\n",
              "      <td>527.349825</td>\n",
              "      <td>75.237905</td>\n",
              "      <td>34.178847</td>\n",
              "      <td>18</td>\n",
              "      <td>0.0</td>\n",
              "      <td>0.0</td>\n",
              "      <td>0.0</td>\n",
              "      <td>0.0</td>\n",
              "      <td>0.0</td>\n",
              "      <td>0.0</td>\n",
              "      <td>0.0</td>\n",
              "      <td>0.0</td>\n",
              "      <td>0.0</td>\n",
              "      <td>0.0</td>\n",
              "      <td>0.0</td>\n",
              "      <td>0.0</td>\n",
              "      <td>0.0</td>\n",
              "    </tr>\n",
              "    <tr>\n",
              "      <th>3</th>\n",
              "      <td>2015-01-01 09:00:00</td>\n",
              "      <td>1</td>\n",
              "      <td>162.462833</td>\n",
              "      <td>346.149335</td>\n",
              "      <td>109.248561</td>\n",
              "      <td>41.122144</td>\n",
              "      <td>18</td>\n",
              "      <td>0.0</td>\n",
              "      <td>0.0</td>\n",
              "      <td>0.0</td>\n",
              "      <td>0.0</td>\n",
              "      <td>0.0</td>\n",
              "      <td>0.0</td>\n",
              "      <td>0.0</td>\n",
              "      <td>0.0</td>\n",
              "      <td>0.0</td>\n",
              "      <td>0.0</td>\n",
              "      <td>0.0</td>\n",
              "      <td>0.0</td>\n",
              "      <td>0.0</td>\n",
              "    </tr>\n",
              "    <tr>\n",
              "      <th>4</th>\n",
              "      <td>2015-01-01 10:00:00</td>\n",
              "      <td>1</td>\n",
              "      <td>157.610021</td>\n",
              "      <td>435.376873</td>\n",
              "      <td>111.886648</td>\n",
              "      <td>25.990511</td>\n",
              "      <td>18</td>\n",
              "      <td>0.0</td>\n",
              "      <td>0.0</td>\n",
              "      <td>0.0</td>\n",
              "      <td>0.0</td>\n",
              "      <td>0.0</td>\n",
              "      <td>0.0</td>\n",
              "      <td>0.0</td>\n",
              "      <td>0.0</td>\n",
              "      <td>0.0</td>\n",
              "      <td>0.0</td>\n",
              "      <td>0.0</td>\n",
              "      <td>0.0</td>\n",
              "      <td>0.0</td>\n",
              "    </tr>\n",
              "    <tr>\n",
              "      <th>...</th>\n",
              "      <td>...</td>\n",
              "      <td>...</td>\n",
              "      <td>...</td>\n",
              "      <td>...</td>\n",
              "      <td>...</td>\n",
              "      <td>...</td>\n",
              "      <td>...</td>\n",
              "      <td>...</td>\n",
              "      <td>...</td>\n",
              "      <td>...</td>\n",
              "      <td>...</td>\n",
              "      <td>...</td>\n",
              "      <td>...</td>\n",
              "      <td>...</td>\n",
              "      <td>...</td>\n",
              "      <td>...</td>\n",
              "      <td>...</td>\n",
              "      <td>...</td>\n",
              "      <td>...</td>\n",
              "      <td>...</td>\n",
              "    </tr>\n",
              "    <tr>\n",
              "      <th>876095</th>\n",
              "      <td>2016-01-01 02:00:00</td>\n",
              "      <td>100</td>\n",
              "      <td>179.438162</td>\n",
              "      <td>395.222827</td>\n",
              "      <td>102.290715</td>\n",
              "      <td>50.771941</td>\n",
              "      <td>5</td>\n",
              "      <td>0.0</td>\n",
              "      <td>0.0</td>\n",
              "      <td>0.0</td>\n",
              "      <td>0.0</td>\n",
              "      <td>0.0</td>\n",
              "      <td>0.0</td>\n",
              "      <td>0.0</td>\n",
              "      <td>0.0</td>\n",
              "      <td>0.0</td>\n",
              "      <td>0.0</td>\n",
              "      <td>0.0</td>\n",
              "      <td>0.0</td>\n",
              "      <td>0.0</td>\n",
              "    </tr>\n",
              "    <tr>\n",
              "      <th>876096</th>\n",
              "      <td>2016-01-01 03:00:00</td>\n",
              "      <td>100</td>\n",
              "      <td>189.617555</td>\n",
              "      <td>446.207972</td>\n",
              "      <td>98.180607</td>\n",
              "      <td>35.123072</td>\n",
              "      <td>5</td>\n",
              "      <td>0.0</td>\n",
              "      <td>0.0</td>\n",
              "      <td>0.0</td>\n",
              "      <td>0.0</td>\n",
              "      <td>0.0</td>\n",
              "      <td>0.0</td>\n",
              "      <td>0.0</td>\n",
              "      <td>0.0</td>\n",
              "      <td>0.0</td>\n",
              "      <td>0.0</td>\n",
              "      <td>0.0</td>\n",
              "      <td>0.0</td>\n",
              "      <td>0.0</td>\n",
              "    </tr>\n",
              "    <tr>\n",
              "      <th>876097</th>\n",
              "      <td>2016-01-01 04:00:00</td>\n",
              "      <td>100</td>\n",
              "      <td>192.483414</td>\n",
              "      <td>447.816524</td>\n",
              "      <td>94.132837</td>\n",
              "      <td>48.314561</td>\n",
              "      <td>5</td>\n",
              "      <td>0.0</td>\n",
              "      <td>0.0</td>\n",
              "      <td>0.0</td>\n",
              "      <td>0.0</td>\n",
              "      <td>0.0</td>\n",
              "      <td>0.0</td>\n",
              "      <td>0.0</td>\n",
              "      <td>0.0</td>\n",
              "      <td>0.0</td>\n",
              "      <td>0.0</td>\n",
              "      <td>0.0</td>\n",
              "      <td>0.0</td>\n",
              "      <td>0.0</td>\n",
              "    </tr>\n",
              "    <tr>\n",
              "      <th>876098</th>\n",
              "      <td>2016-01-01 05:00:00</td>\n",
              "      <td>100</td>\n",
              "      <td>165.475310</td>\n",
              "      <td>413.771670</td>\n",
              "      <td>104.081073</td>\n",
              "      <td>44.835259</td>\n",
              "      <td>5</td>\n",
              "      <td>0.0</td>\n",
              "      <td>0.0</td>\n",
              "      <td>0.0</td>\n",
              "      <td>0.0</td>\n",
              "      <td>0.0</td>\n",
              "      <td>0.0</td>\n",
              "      <td>0.0</td>\n",
              "      <td>0.0</td>\n",
              "      <td>0.0</td>\n",
              "      <td>0.0</td>\n",
              "      <td>0.0</td>\n",
              "      <td>0.0</td>\n",
              "      <td>0.0</td>\n",
              "    </tr>\n",
              "    <tr>\n",
              "      <th>876099</th>\n",
              "      <td>2016-01-01 06:00:00</td>\n",
              "      <td>100</td>\n",
              "      <td>171.336037</td>\n",
              "      <td>496.096870</td>\n",
              "      <td>79.095538</td>\n",
              "      <td>37.845245</td>\n",
              "      <td>5</td>\n",
              "      <td>0.0</td>\n",
              "      <td>0.0</td>\n",
              "      <td>0.0</td>\n",
              "      <td>0.0</td>\n",
              "      <td>0.0</td>\n",
              "      <td>0.0</td>\n",
              "      <td>0.0</td>\n",
              "      <td>0.0</td>\n",
              "      <td>0.0</td>\n",
              "      <td>0.0</td>\n",
              "      <td>0.0</td>\n",
              "      <td>0.0</td>\n",
              "      <td>0.0</td>\n",
              "    </tr>\n",
              "  </tbody>\n",
              "</table>\n",
              "<p>876100 rows × 20 columns</p>\n",
              "</div>"
            ],
            "text/plain": [
              "                  datetime  machineID  ...  maintComp3  maintComp4\n",
              "0      2015-01-01 06:00:00          1  ...         0.0         0.0\n",
              "1      2015-01-01 07:00:00          1  ...         0.0         0.0\n",
              "2      2015-01-01 08:00:00          1  ...         0.0         0.0\n",
              "3      2015-01-01 09:00:00          1  ...         0.0         0.0\n",
              "4      2015-01-01 10:00:00          1  ...         0.0         0.0\n",
              "...                    ...        ...  ...         ...         ...\n",
              "876095 2016-01-01 02:00:00        100  ...         0.0         0.0\n",
              "876096 2016-01-01 03:00:00        100  ...         0.0         0.0\n",
              "876097 2016-01-01 04:00:00        100  ...         0.0         0.0\n",
              "876098 2016-01-01 05:00:00        100  ...         0.0         0.0\n",
              "876099 2016-01-01 06:00:00        100  ...         0.0         0.0\n",
              "\n",
              "[876100 rows x 20 columns]"
            ]
          },
          "metadata": {},
          "execution_count": 11
        }
      ]
    },
    {
      "cell_type": "code",
      "metadata": {
        "id": "OVxuSDA-NHKL"
      },
      "source": [
        "df = test"
      ],
      "execution_count": null,
      "outputs": []
    },
    {
      "cell_type": "code",
      "metadata": {
        "id": "BOxllcTqdc1c"
      },
      "source": [
        "df['comp1_fails_in_aday'] = df['comp1'] \n",
        "day = 24\n",
        "for i in range(0, len(df)):\n",
        "  if(df.iloc[i,12]== 1):\n",
        "    id = df.iloc[i,1]\n",
        "    for j in range(i , max(-1,i-day) , -1):\n",
        "      if(id != df.iloc[j,1]):\n",
        "        break\n",
        "      df.at[j, 'comp1_fails_in_aday'] = 1\n",
        "df['comp2_fails_in_aday'] = df['comp2'] \n",
        "day = 24\n",
        "for i in range(0, len(df)):\n",
        "  if(df.iloc[i,13]== 1):\n",
        "    id = df.iloc[i,1]\n",
        "    for j in range(i , max(-1,i-day) , -1):\n",
        "      if(id != df.iloc[j,1]):\n",
        "        break\n",
        "      df.at[j, 'comp2_fails_in_aday'] = 1\n",
        "df['comp3_fails_in_aday'] = df['comp3'] \n",
        "day = 24\n",
        "for i in range(0, len(df)):\n",
        "  if(df.iloc[i,14]== 1):\n",
        "    id = df.iloc[i,1]\n",
        "    for j in range(i , max(-1,i-day) , -1):\n",
        "      if(id != df.iloc[j,1]):\n",
        "        break\n",
        "      df.at[j, 'comp3_fails_in_aday'] = 1\n",
        "df['comp4_fails_in_aday'] = df['comp4'] \n",
        "day = 24\n",
        "for i in range(0, len(df)):\n",
        "  if(df.iloc[i,15]== 1):\n",
        "    id = df.iloc[i,1]\n",
        "    for j in range(i , max(-1,i-day) , -1):\n",
        "      if(id != df.iloc[j,1]):\n",
        "        break\n",
        "      df.at[j, 'comp4_fails_in_aday'] = 1\n",
        "       "
      ],
      "execution_count": null,
      "outputs": []
    },
    {
      "cell_type": "code",
      "metadata": {
        "id": "4L1xM770eHBb"
      },
      "source": [
        "features_col_name=['volt' , 'rotate' , 'pressure' , 'vibration' ,\t'age'  , 'error1', 'error2' , 'error3' , 'error4' , 'maintComp1', 'maintComp2','maintComp3' , 'maintComp4']\n",
        "target_col_day=['comp1_fails_in_aday','comp2_fails_in_aday','comp3_fails_in_aday','comp4_fails_in_aday']"
      ],
      "execution_count": null,
      "outputs": []
    },
    {
      "cell_type": "code",
      "metadata": {
        "id": "vC-oNTaVeH0l"
      },
      "source": [
        "train = pd.DataFrame(columns = df.columns)\n",
        "test = pd.DataFrame(columns = df.columns)"
      ],
      "execution_count": null,
      "outputs": []
    },
    {
      "cell_type": "code",
      "metadata": {
        "id": "xEDG0FNfgl3Q"
      },
      "source": [
        "from sklearn.preprocessing import MinMaxScaler\n",
        "for i in range(1,101):\n",
        "  k = df[df['machineID'] == i][:6503]\n",
        "  train = train.append(k)\n",
        "  k = df[df['machineID'] == i][6503:]\n",
        "  test = test.append(k)\n",
        "\n",
        "sc=MinMaxScaler()\n",
        "train[features_col_name]=sc.fit_transform(train[features_col_name])\n",
        "test[features_col_name]=sc.transform(test[features_col_name])"
      ],
      "execution_count": null,
      "outputs": []
    },
    {
      "cell_type": "code",
      "metadata": {
        "id": "SuMSKEXxgu7W"
      },
      "source": [
        "seq_cols=features_col_name\n",
        "def gen_sequence(id_df, seq_length, seq_cols):\n",
        "    df_zeros=pd.DataFrame(np.zeros((seq_length-1,id_df.shape[1])),columns=id_df.columns)\n",
        "    id_df=df_zeros.append(id_df,ignore_index=True)\n",
        "    data_array = id_df[seq_cols].values\n",
        "    num_elements = data_array.shape[0]\n",
        "    lstm_array=[]\n",
        "    for start, stop in zip(range(0, num_elements-seq_length), range(seq_length, num_elements)):\n",
        "        lstm_array.append(data_array[start:stop, :])\n",
        "    return np.array(lstm_array)\n",
        "\n",
        "# function to generate labels\n",
        "def gen_label(id_df, seq_length, seq_cols,labels):\n",
        "    df_zeros=pd.DataFrame(np.zeros((seq_length-1,id_df.shape[1])),columns=id_df.columns)\n",
        "    id_df=df_zeros.append(id_df,ignore_index=True)\n",
        "    data_array = id_df[seq_cols].values\n",
        "    num_elements = data_array.shape[0]\n",
        "    y_label=[]\n",
        "    for start, stop in zip(range(0, num_elements-seq_length), range(seq_length, num_elements)):\n",
        "        y_label.append([id_df[labels[0]][stop],id_df[labels[1]][stop],id_df[labels[2]][stop],id_df[labels[3]][stop]])\n",
        "    return np.array(y_label)"
      ],
      "execution_count": null,
      "outputs": []
    },
    {
      "cell_type": "code",
      "metadata": {
        "colab": {
          "base_uri": "https://localhost:8080/"
        },
        "id": "wJQ6S1PWh6GE",
        "outputId": "9f98ab85-d10d-4d90-fb2e-01a3a6e0646a"
      },
      "source": [
        "# generate X_train\n",
        "X_train=np.concatenate(list(list(gen_sequence(train[train['machineID']==id], day, seq_cols)) for id in train['machineID'].unique()))\n",
        "print(X_train.shape)\n",
        "# generate y_train\n",
        "y_train=np.concatenate(list(list(gen_label(train[train['machineID']==id], day, seq_cols,target_col_day)) for id in train['machineID'].unique()))\n",
        "print(y_train.shape)\n",
        "# generate X_test\n",
        "X_test=np.concatenate(list(list(gen_sequence(test[test['machineID']==id], day, seq_cols)) for id in test['machineID'].unique()))\n",
        "print(X_test.shape)\n",
        "# generate y_test\n",
        "y_test=np.concatenate(list(list(gen_label(test[test['machineID']==id], day, seq_cols,target_col_day)) for id in test['machineID'].unique()))\n",
        "print(y_test.shape)\n",
        "y_train = list(np.transpose(y_train))\n",
        "y_test = list(np.transpose(y_test))"
      ],
      "execution_count": null,
      "outputs": [
        {
          "output_type": "stream",
          "text": [
            "(650200, 24, 13)\n",
            "(650200, 4)\n",
            "(225700, 24, 13)\n",
            "(225700, 4)\n"
          ],
          "name": "stdout"
        }
      ]
    },
    {
      "cell_type": "code",
      "metadata": {
        "id": "iB_uvxkW9Gj3"
      },
      "source": [
        "from keras.models import Model\n",
        "from keras.layers.core import Activation\n",
        "from keras.layers.core import Dropout\n",
        "from keras.layers.core import Lambda\n",
        "from keras.layers.core import Dense\n",
        "from keras.layers import LSTM\n",
        "from keras.layers import Flatten\n",
        "from keras.layers import Input\n",
        "import tensorflow as tf\n",
        "class UtkMultiOutputModel():\n",
        "    def make_default_hidden_layers(self, inputs):\n",
        "        x = LSTM(units=200,return_sequences=True)(inputs)\n",
        "        x = Dropout(0.2)(x)\n",
        "        x = LSTM(units=200,return_sequences=False)(inputs)\n",
        "        x = Dropout(0.2)(x)\n",
        "        return x\n",
        "    def build_comp1_branch(self, inputs):\n",
        "        x = self.make_default_hidden_layers(inputs)\n",
        "        x = Dense(1)(x)\n",
        "        x = Activation(\"sigmoid\", name=\"comp1\")(x)\n",
        "        return x\n",
        "    def build_comp2_branch(self, inputs):\n",
        "        x = self.make_default_hidden_layers(inputs)\n",
        "        x = Dense(1)(x)\n",
        "        x = Activation(\"sigmoid\", name=\"comp2\")(x)\n",
        "        return x\n",
        "    def build_comp3_branch(self, inputs):   \n",
        "        x = self.make_default_hidden_layers(inputs)\n",
        "        x = Dense(1)(x)\n",
        "        x = Activation(\"sigmoid\", name=\"comp3\")(x)\n",
        "        return x\n",
        "\n",
        "    def build_comp4_branch(self, inputs):   \n",
        "        x = self.make_default_hidden_layers(inputs)\n",
        "        x = Dense(1)(x)\n",
        "        x = Activation(\"sigmoid\", name=\"comp4\")(x)\n",
        "        return x\n",
        "    def assemble_full_model(self, timestamp, nb_features):\n",
        "        input_shape=(timestamp, nb_features)\n",
        "        inputs = Input(shape=input_shape)\n",
        "        branch1 = self.build_comp1_branch(inputs)\n",
        "        branch2 = self.build_comp2_branch(inputs)\n",
        "        branch3 = self.build_comp3_branch(inputs)\n",
        "        branch4 = self.build_comp4_branch(inputs)\n",
        "        model = Model(inputs=inputs,\n",
        "                     outputs = [branch1,branch2,branch3,branch4],\n",
        "                     name=\"failure\")\n",
        "        return model\n",
        "nb_features =X_train.shape[2]\n",
        "timestamp=day\n",
        "\n",
        "    \n",
        "model = UtkMultiOutputModel().assemble_full_model(timestamp,nb_features)\n"
      ],
      "execution_count": null,
      "outputs": []
    },
    {
      "cell_type": "code",
      "metadata": {
        "colab": {
          "base_uri": "https://localhost:8080/"
        },
        "id": "n5WXhl8OdKBs",
        "outputId": "e82579f0-7554-4ccc-a49b-0cebb91761fb"
      },
      "source": [
        "from keras import backend as K\n",
        "\n",
        "def recall_m(y_true, y_pred):\n",
        "    true_positives = K.sum(K.round(K.clip(y_true * y_pred, 0, 1)))\n",
        "    possible_positives = K.sum(K.round(K.clip(y_true, 0, 1)))\n",
        "    recall = true_positives / (possible_positives + K.epsilon())\n",
        "    return recall\n",
        "\n",
        "def precision_m(y_true, y_pred):\n",
        "    true_positives = K.sum(K.round(K.clip(y_true * y_pred, 0, 1)))\n",
        "    predicted_positives = K.sum(K.round(K.clip(y_pred, 0, 1)))\n",
        "    precision = true_positives / (predicted_positives + K.epsilon())\n",
        "    return precision\n",
        "\n",
        "def f1_m(y_true, y_pred):\n",
        "    precision = precision_m(y_true, y_pred)\n",
        "    recall = recall_m(y_true, y_pred)\n",
        "    return 2*((precision*recall)/(precision+recall+K.epsilon()))\n",
        "\n",
        "\n",
        "model.compile(optimizer='adam', \n",
        "              loss={\n",
        "                  'comp1': 'binary_crossentropy',\n",
        "                  'comp2': 'binary_crossentropy',\n",
        "                  'comp3': 'binary_crossentropy', \n",
        "                  'comp4': 'binary_crossentropy'},\n",
        "              loss_weights={\n",
        "                  'comp1': 0.1,\n",
        "                  'comp2': 0.1,\n",
        "                  'comp3': 0.1, \n",
        "                  'comp4': 0.1},\n",
        "              metrics={\n",
        "                  'comp1': 'accuracy',\n",
        "                  'comp2': 'accuracy',\n",
        "                  'comp3': 'accuracy',\n",
        "                  'comp4': 'accuracy'},)\n",
        "\n",
        "model.fit(X_train, y_train, epochs=3, batch_size=100, validation_split=0.2)"
      ],
      "execution_count": null,
      "outputs": [
        {
          "output_type": "stream",
          "text": [
            "Epoch 1/3\n",
            "5202/5202 [==============================] - 108s 20ms/step - loss: 0.0092 - comp1_loss: 0.0340 - comp2_loss: 0.0154 - comp3_loss: 0.0209 - comp4_loss: 0.0216 - comp1_accuracy: 0.9944 - comp2_accuracy: 0.9973 - comp3_accuracy: 0.9967 - comp4_accuracy: 0.9948 - val_loss: 0.0080 - val_comp1_loss: 0.0353 - val_comp2_loss: 1.0330e-04 - val_comp3_loss: 0.0308 - val_comp4_loss: 0.0133 - val_comp1_accuracy: 0.9936 - val_comp2_accuracy: 1.0000 - val_comp3_accuracy: 0.9937 - val_comp4_accuracy: 0.9949\n",
            "Epoch 2/3\n",
            "5202/5202 [==============================] - 98s 19ms/step - loss: 0.0031 - comp1_loss: 0.0131 - comp2_loss: 0.0015 - comp3_loss: 0.0043 - comp4_loss: 0.0116 - comp1_accuracy: 0.9967 - comp2_accuracy: 0.9998 - comp3_accuracy: 0.9986 - comp4_accuracy: 0.9949 - val_loss: 0.0036 - val_comp1_loss: 0.0083 - val_comp2_loss: 0.0104 - val_comp3_loss: 0.0030 - val_comp4_loss: 0.0146 - val_comp1_accuracy: 0.9965 - val_comp2_accuracy: 0.9965 - val_comp3_accuracy: 0.9989 - val_comp4_accuracy: 0.9949\n",
            "Epoch 3/3\n",
            "5202/5202 [==============================] - 97s 19ms/step - loss: 0.0022 - comp1_loss: 0.0067 - comp2_loss: 7.4116e-04 - comp3_loss: 0.0037 - comp4_loss: 0.0109 - comp1_accuracy: 0.9979 - comp2_accuracy: 0.9998 - comp3_accuracy: 0.9989 - comp4_accuracy: 0.9949 - val_loss: 0.0023 - val_comp1_loss: 0.0054 - val_comp2_loss: 1.7856e-04 - val_comp3_loss: 0.0043 - val_comp4_loss: 0.0130 - val_comp1_accuracy: 0.9981 - val_comp2_accuracy: 1.0000 - val_comp3_accuracy: 0.9984 - val_comp4_accuracy: 0.9949\n"
          ],
          "name": "stdout"
        },
        {
          "output_type": "execute_result",
          "data": {
            "text/plain": [
              "<keras.callbacks.History at 0x7fa4b681e290>"
            ]
          },
          "metadata": {},
          "execution_count": 29
        }
      ]
    },
    {
      "cell_type": "code",
      "metadata": {
        "id": "X-7kucbIdxNy",
        "colab": {
          "base_uri": "https://localhost:8080/"
        },
        "outputId": "bdcc97d7-b744-41c5-bfd8-0883d89ab1db"
      },
      "source": [
        "model.summary()"
      ],
      "execution_count": null,
      "outputs": [
        {
          "output_type": "stream",
          "text": [
            "Model: \"failure\"\n",
            "__________________________________________________________________________________________________\n",
            "Layer (type)                    Output Shape         Param #     Connected to                     \n",
            "==================================================================================================\n",
            "input_1 (InputLayer)            [(None, 24, 13)]     0                                            \n",
            "__________________________________________________________________________________________________\n",
            "lstm_1 (LSTM)                   (None, 50)           12800       input_1[0][0]                    \n",
            "__________________________________________________________________________________________________\n",
            "lstm_3 (LSTM)                   (None, 50)           12800       input_1[0][0]                    \n",
            "__________________________________________________________________________________________________\n",
            "lstm_5 (LSTM)                   (None, 50)           12800       input_1[0][0]                    \n",
            "__________________________________________________________________________________________________\n",
            "lstm_7 (LSTM)                   (None, 50)           12800       input_1[0][0]                    \n",
            "__________________________________________________________________________________________________\n",
            "dropout_1 (Dropout)             (None, 50)           0           lstm_1[0][0]                     \n",
            "__________________________________________________________________________________________________\n",
            "dropout_3 (Dropout)             (None, 50)           0           lstm_3[0][0]                     \n",
            "__________________________________________________________________________________________________\n",
            "dropout_5 (Dropout)             (None, 50)           0           lstm_5[0][0]                     \n",
            "__________________________________________________________________________________________________\n",
            "dropout_7 (Dropout)             (None, 50)           0           lstm_7[0][0]                     \n",
            "__________________________________________________________________________________________________\n",
            "dense (Dense)                   (None, 1)            51          dropout_1[0][0]                  \n",
            "__________________________________________________________________________________________________\n",
            "dense_1 (Dense)                 (None, 1)            51          dropout_3[0][0]                  \n",
            "__________________________________________________________________________________________________\n",
            "dense_2 (Dense)                 (None, 1)            51          dropout_5[0][0]                  \n",
            "__________________________________________________________________________________________________\n",
            "dense_3 (Dense)                 (None, 1)            51          dropout_7[0][0]                  \n",
            "__________________________________________________________________________________________________\n",
            "comp1 (Activation)              (None, 1)            0           dense[0][0]                      \n",
            "__________________________________________________________________________________________________\n",
            "comp2 (Activation)              (None, 1)            0           dense_1[0][0]                    \n",
            "__________________________________________________________________________________________________\n",
            "comp3 (Activation)              (None, 1)            0           dense_2[0][0]                    \n",
            "__________________________________________________________________________________________________\n",
            "comp4 (Activation)              (None, 1)            0           dense_3[0][0]                    \n",
            "==================================================================================================\n",
            "Total params: 51,404\n",
            "Trainable params: 51,404\n",
            "Non-trainable params: 0\n",
            "__________________________________________________________________________________________________\n"
          ],
          "name": "stdout"
        }
      ]
    },
    {
      "cell_type": "code",
      "metadata": {
        "id": "CdavFAQ8Sbp-"
      },
      "source": [
        "y_pred = np.array(model.predict(X_test))"
      ],
      "execution_count": null,
      "outputs": []
    },
    {
      "cell_type": "code",
      "metadata": {
        "id": "HC-q49_KGRG7"
      },
      "source": [
        "y_pred_comp1 = y_pred[0].flatten()\n",
        "y_pred_comp2 = y_pred[1].flatten()\n",
        "y_pred_comp3 = y_pred[2].flatten()\n",
        "y_pred_comp4 = y_pred[3].flatten()"
      ],
      "execution_count": null,
      "outputs": []
    },
    {
      "cell_type": "code",
      "metadata": {
        "id": "493VUXhTc4dC"
      },
      "source": [
        "y_true_comp1 = y_test[0].flatten()\n",
        "y_true_comp2 = y_test[1].flatten()\n",
        "y_true_comp3 = y_test[2].flatten()\n",
        "y_true_comp4 = y_test[3].flatten()"
      ],
      "execution_count": null,
      "outputs": []
    },
    {
      "cell_type": "code",
      "metadata": {
        "id": "wtVzcwUUdDcT"
      },
      "source": [
        "y_pred_classes_comp1= np.array(list(map(lambda x: 0 if x<0.5 else 1, y_pred_comp1)))\n",
        "y_pred_classes_comp2= np.array(list(map(lambda x: 0 if x<0.5 else 1, y_pred_comp2)))\n",
        "y_pred_classes_comp3= np.array(list(map(lambda x: 0 if x<0.5 else 1, y_pred_comp3)))\n",
        "y_pred_classes_comp4= np.array(list(map(lambda x: 0 if x<0.5 else 1, y_pred_comp4)))"
      ],
      "execution_count": null,
      "outputs": []
    },
    {
      "cell_type": "code",
      "metadata": {
        "colab": {
          "base_uri": "https://localhost:8080/",
          "height": 1000
        },
        "id": "X2aaShEKNtNP",
        "outputId": "ea2721e1-823b-46f2-8640-ab1f3d1aa656"
      },
      "source": [
        "from sklearn.metrics import accuracy_score\n",
        "from sklearn.metrics import confusion_matrix\n",
        "#plotting the cm\n",
        "import seaborn as sns\n",
        "import matplotlib.pyplot as plt\n",
        "def conf_mat(y_true , y_pred_classes , name):\n",
        "  cm = confusion_matrix(y_true,y_pred_classes)\n",
        "  plt.figure(figsize = (12, 10))\n",
        "  cm = pd.DataFrame(cm , index = [0,1] , columns = [0,1])\n",
        "  sns.heatmap(cm, linecolor='white', cmap='Blues', linewidth=1, annot=True, fmt='')\n",
        "  plt.title('Confusion Matrix', size=10)\n",
        "  plt.xlabel('Predicted : '+name , size=6)\n",
        "  plt.ylabel('Actual : '+name ,size=6)\n",
        "  plt.show()\n",
        "  return cm\n",
        "def performance(cm):\n",
        "  #Accuracy\n",
        "  print('Accuracy : ', (cm[0][0]+cm[1][1])/(cm[0][0]+cm[1][0]+cm[0][1]+cm[1][1]))\n",
        "  #Recall\n",
        "  recall = (cm[1][1]/(cm[1][1]+cm[0][1]))\n",
        "  print('Recall : ', recall )\n",
        "  #Precision\n",
        "  precision = (cm[1][1]/(cm[1][1]+cm[1][0]))\n",
        "  print('Precision : ', precision )\n",
        "  #F1 Score\n",
        "  print('F1 score : ',2*precision*recall/(precision+recall))\n",
        "performance(conf_mat(y_true_comp1 , y_pred_classes_comp1 , 'composant n°1'))\n",
        "performance(conf_mat(y_true_comp2 , y_pred_classes_comp2 , 'composant n°2'))\n",
        "performance(conf_mat(y_true_comp3 , y_pred_classes_comp3 , 'composant n°3'))\n",
        "performance(conf_mat(y_true_comp4 , y_pred_classes_comp4 , 'composant n°4'))"
      ],
      "execution_count": null,
      "outputs": [
        {
          "output_type": "display_data",
          "data": {
            "image/png": "[encoded data removed]",
            "text/plain": [
              "<Figure size 864x720 with 2 Axes>"
            ]
          },
          "metadata": {
            "needs_background": "light"
          }
        },
        {
          "output_type": "stream",
          "text": [
            "Accuracy :  0.9992423571112096\n",
            "Recall :  0.9967982924226254\n",
            "Precision :  0.8475499092558983\n",
            "F1 score :  0.916135360470819\n"
          ],
          "name": "stdout"
        },
        {
          "output_type": "display_data",
          "data": {
            "image/png": "[encoded data removed]",
            "text/plain": [
              "<Figure size 864x720 with 2 Axes>"
            ]
          },
          "metadata": {
            "needs_background": "light"
          }
        },
        {
          "output_type": "stream",
          "text": [
            "Accuracy :  0.9999955693398316\n",
            "Recall :  1.0\n",
            "Precision :  0.9994216310005783\n",
            "F1 score :  0.9997107318484235\n"
          ],
          "name": "stdout"
        },
        {
          "output_type": "display_data",
          "data": {
            "image/png": "[encoded data removed]",
            "text/plain": [
              "<Figure size 864x720 with 2 Axes>"
            ]
          },
          "metadata": {
            "needs_background": "light"
          }
        },
        {
          "output_type": "stream",
          "text": [
            "Accuracy :  0.9994727514399645\n",
            "Recall :  0.9410919540229885\n",
            "Precision :  0.8935879945429741\n",
            "F1 score :  0.9167249825052485\n"
          ],
          "name": "stdout"
        },
        {
          "output_type": "display_data",
          "data": {
            "image/png": "[encoded data removed]",
            "text/plain": [
              "<Figure size 864x720 with 2 Axes>"
            ]
          },
          "metadata": {
            "needs_background": "light"
          }
        },
        {
          "output_type": "stream",
          "text": [
            "Accuracy :  0.9958927780239256\n",
            "Recall :  0.08020304568527918\n",
            "Precision :  0.79\n",
            "F1 score :  0.1456221198156682\n"
          ],
          "name": "stdout"
        }
      ]
    },
    {
      "cell_type": "code",
      "metadata": {
        "id": "f6LEXcNdVST9"
      },
      "source": [
        "def prob_failure(machine_id , comp):\n",
        "    machine_df=test[test.machineID==machine_id]\n",
        "    machine_test=gen_sequence(machine_df,day,seq_cols)\n",
        "    m_pred=model.predict(machine_test)\n",
        "    failure_prob=list(m_pred[comp][-1]*100)[0]\n",
        "    print('the probability of failure of comp number ' , comp+1 ,'corresponding to machine number ' ,machine_id ,' is : ' , failure_prob)"
      ],
      "execution_count": null,
      "outputs": []
    },
    {
      "cell_type": "code",
      "metadata": {
        "colab": {
          "base_uri": "https://localhost:8080/"
        },
        "id": "nsvkSqeNM8v3",
        "outputId": "1b907838-feaf-4625-9d2e-5fca8fa3935a"
      },
      "source": [
        "prob_failure(80,0)"
      ],
      "execution_count": null,
      "outputs": [
        {
          "output_type": "stream",
          "text": [
            "the probability of failure of comp number  0 corresponding to machine number  80  is :  0.27662206\n"
          ],
          "name": "stdout"
        }
      ]
    },
    {
      "cell_type": "code",
      "metadata": {
        "colab": {
          "base_uri": "https://localhost:8080/"
        },
        "id": "IJG-AdQPMoP1",
        "outputId": "5fddce00-5fc5-4005-d4f3-6d57c55e1a58"
      },
      "source": [
        "# serialize model to JSON\n",
        "model_json = model.to_json()\n",
        "with open(\"model.json\", \"w\") as json_file:\n",
        "    json_file.write(model_json)\n",
        "# serialize weights to HDF5\n",
        "model.save_weights(\"model.h5\")\n",
        "print(\"Saved model to disk\")"
      ],
      "execution_count": null,
      "outputs": [
        {
          "output_type": "stream",
          "text": [
            "Saved model to disk\n"
          ],
          "name": "stdout"
        }
      ]
    },
    {
      "cell_type": "code",
      "metadata": {
        "id": "5dOocSrLMsKm"
      },
      "source": [
        "!mv model.json /content/drive/MyDrive/Data/"
      ],
      "execution_count": null,
      "outputs": []
    },
    {
      "cell_type": "code",
      "metadata": {
        "id": "3VZqURqQMuw6"
      },
      "source": [
        "!mv model.h5 /content/drive/MyDrive/Data/"
      ],
      "execution_count": null,
      "outputs": []
    },
    {
      "cell_type": "code",
      "metadata": {
        "id": "gTjXZUWvMw-h"
      },
      "source": [
        "from keras.models import model_from_json\n",
        "# later...\n",
        " \n",
        "# load json and create model\n",
        "json_file = open('/content/drive/MyDrive/Data/model.json', 'r')\n",
        "loaded_model_json = json_file.read()\n",
        "json_file.close()\n",
        "loaded_model = model_from_json(loaded_model_json)\n",
        "# load weights into new model\n",
        "loaded_model.load_weights(\"/content/drive/MyDrive/Data/model.h5\")\n",
        "print(\"Loaded model from disk\")"
      ],
      "execution_count": null,
      "outputs": []
    }
  ]
}
